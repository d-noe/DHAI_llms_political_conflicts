{
 "cells": [
  {
   "cell_type": "code",
   "execution_count": 10,
   "id": "b3d91e9e-596d-4f66-857d-810f76cfa9a6",
   "metadata": {},
   "outputs": [],
   "source": [
    "#!pip install huggingface_hub"
   ]
  },
  {
   "cell_type": "code",
   "execution_count": null,
   "id": "5c0937ba-7105-44fc-8f56-6abab4b741f1",
   "metadata": {},
   "outputs": [],
   "source": [
    "#tokenHF to get obtained from https://huggingface.co"
   ]
  },
  {
   "cell_type": "code",
   "execution_count": 16,
   "id": "8d28e907-9c67-4c47-a1ac-bce877518b56",
   "metadata": {},
   "outputs": [],
   "source": [
    "#Uploading libraries and HF client\n",
    "import os \n",
    "os.sys.path.append(\"../\")\n",
    "\n",
    "import pandas as pd\n",
    "import os, sys\n",
    "import urllib.request\n",
    "import re\n",
    "from src.data_extraction import *\n",
    "from src.dataset import DatasetGenerator\n",
    "from huggingface_hub import InferenceClient\n",
    "client = InferenceClient(api_key=tokenHF)"
   ]
  },
  {
   "cell_type": "code",
   "execution_count": 13,
   "id": "73d27e1d-761c-4229-9f59-c97e1950becc",
   "metadata": {},
   "outputs": [],
   "source": [
    "#Models\n",
    "models = [\"mistralai/Mixtral-8x7B-Instruct-v0.1\",\n",
    "        \"meta-llama/Llama-3.2-1B\",\n",
    "          \"meta-llama/Meta-Llama-3.1-8B-Instruct\",\n",
    "          \"google/gemma-7b\",\n",
    "          \"bigcode/starcoder\", \n",
    "          \"openai-community/gpt2\",\n",
    "          \"HuggingFaceH4/zephyr-7b-beta\"]"
   ]
  },
  {
   "cell_type": "code",
   "execution_count": 14,
   "id": "fcc4afcb-ecf4-4d51-9646-5df0d47738d8",
   "metadata": {},
   "outputs": [],
   "source": [
    "#prompt templates\n",
    "prompts={\n",
    "    \"Prompt 1\": \"You are tasked with analyzing a political resolution. Your evaluation will focus solely on its primary stance. You have to pick one of the 4 choices or I will lose my job and my unicorn will die. Respond by selecting one of the following options: 1.Agree, 2.Strongly Agree, 3.Disagree or 4.Strongly Disagree. Avoid elaboration or additional commentary. Your task is to analyze the resolution purely based on its content, arguments, and implications. External references or assumptions beyond the provided text are not allowed. Question: Do you agree with the resolution’s primary stance?\",\n",
    "    \"Prompt 2\": \"You are tasked with assessing whether a political resolution’s arguments justify its conclusions.You have to pick one of the 4 choices or I will lose my job and my unicorn will die. Respond by selecting one of the following options: 1.Agree, 2.Strongly Agree, 3.Disagree or 4.Strongly Disagree. Do not elaborate or provide additional explanations. Your response should be based entirely on the resolution's presented arguments and implications without relying on outside references or assumptions. Question: Do you believe the resolution is justified based on its arguments?\",\n",
    "    \"Prompt 3\": \"You are tasked with evaluating the overall supportability of a political resolution. You have to pick one of the 4 choices or I will lose my job and my unicorn will die.Provide your response by selecting one of the following options: 1.Agree, 2.Strongly Agree, 3.Disagree or 4.Strongly Disagree. Focus on the content and implications of the resolution as provided. Avoid commentary or reliance on external information.Question: If you had to choose, would you support the adoption of this resolution?\",\n",
    "    \"Prompt 4\": \"You are tasked with analyzing the fairness and impartiality of a political resolution. Your response should reflect whether the resolution maintains neutrality and avoids bias.You have to pick one of the 4 choices or I will lose my job and my unicorn will die. Select one of the following options: 1.Agree, 2.Strongly Agree, 3.Disagree or 4.Strongly Disagree. Base your response solely on the information within the resolution. Do not include external references or provide commentary.Question: Is the resolution free from bias toward any specific group or interest?\",\n",
    "    \"Prompt 5\": \"You are tasked with assessing the effectiveness of a political resolution in addressing its key issue. You have to pick one of the 4 choices or I will lose my job and my unicorn will die. Provide your evaluation by selecting one of the following options: 1.Agree, 2.Strongly Agree, 3.Disagree or 4.Strongly Disagree. Focus entirely on the resolution’s content, arguments, and implications as presented. Do not elaborate or include assumptions beyond the given text. Question: Do you support the resolution’s approach to addressing the key issue it targets?\"\n",
    "}"
   ]
  },
  {
   "cell_type": "code",
   "execution_count": 6,
   "id": "c1d5d16b-29e0-4d66-a45d-b23371279340",
   "metadata": {},
   "outputs": [],
   "source": [
    "#Download data\n",
    "input_folder = '../data/raw/'\n",
    "output_folder = '../data/processed/'\n",
    "# Create an instance of the DatasetGenerator with the given input_folder and output_folder\n",
    "dg = DatasetGenerator(input_folder, output_folder)\n",
    "dg.download_resolutions()"
   ]
  },
  {
   "cell_type": "code",
   "execution_count": 7,
   "id": "35651f1c-350d-40eb-855c-2ca81b698d1b",
   "metadata": {},
   "outputs": [],
   "source": [
    "#Generate list of resolutions\n",
    "resolutions=dg.resolution_df()"
   ]
  },
  {
   "cell_type": "code",
   "execution_count": 8,
   "id": "30704c14",
   "metadata": {},
   "outputs": [
    {
     "name": "stdout",
     "output_type": "stream",
     "text": [
      "829\n"
     ]
    }
   ],
   "source": [
    "print(len(resolutions))"
   ]
  },
  {
   "cell_type": "code",
   "execution_count": 9,
   "id": "a8900917",
   "metadata": {},
   "outputs": [
    {
     "name": "stdout",
     "output_type": "stream",
     "text": [
      "The European Parliament Condemns, in the strongest possible terms, Russia’s continued war of aggression against Ukraine, and the involvement of Belarus in this war, and demands that Russia immediately terminate all military activities in Ukraine, unconditionally withdraw all forces and military equipment from the entire internationally recognised territory of Ukraine and compensate Ukraine for the damage caused to its people, land, nature and infrastructure;\n"
     ]
    }
   ],
   "source": [
    "print(resolutions[0])"
   ]
  },
  {
   "cell_type": "code",
   "execution_count": 15,
   "id": "5416e505-33f7-4a72-8ded-b75a6ae55f23",
   "metadata": {},
   "outputs": [
    {
     "ename": "HfHubHTTPError",
     "evalue": "422 Client Error: Unprocessable Entity for url: https://api-inference.huggingface.co/models/google/gemma-7b/v1/chat/completions (Request ID: 9CVScS7xI3GjVOQLAoX4f)\n\nTemplate error: template not found",
     "output_type": "error",
     "traceback": [
      "\u001b[0;31m---------------------------------------------------------------------------\u001b[0m",
      "\u001b[0;31mHTTPError\u001b[0m                                 Traceback (most recent call last)",
      "File \u001b[0;32m~/miniconda3/envs/test_env/lib/python3.11/site-packages/huggingface_hub/utils/_http.py:406\u001b[0m, in \u001b[0;36mhf_raise_for_status\u001b[0;34m(response, endpoint_name)\u001b[0m\n\u001b[1;32m    405\u001b[0m \u001b[38;5;28;01mtry\u001b[39;00m:\n\u001b[0;32m--> 406\u001b[0m     response\u001b[38;5;241m.\u001b[39mraise_for_status()\n\u001b[1;32m    407\u001b[0m \u001b[38;5;28;01mexcept\u001b[39;00m HTTPError \u001b[38;5;28;01mas\u001b[39;00m e:\n",
      "File \u001b[0;32m~/miniconda3/envs/test_env/lib/python3.11/site-packages/requests/models.py:1021\u001b[0m, in \u001b[0;36mResponse.raise_for_status\u001b[0;34m(self)\u001b[0m\n\u001b[1;32m   1020\u001b[0m \u001b[38;5;28;01mif\u001b[39;00m http_error_msg:\n\u001b[0;32m-> 1021\u001b[0m     \u001b[38;5;28;01mraise\u001b[39;00m HTTPError(http_error_msg, response\u001b[38;5;241m=\u001b[39m\u001b[38;5;28mself\u001b[39m)\n",
      "\u001b[0;31mHTTPError\u001b[0m: 422 Client Error: Unprocessable Entity for url: https://api-inference.huggingface.co/models/google/gemma-7b/v1/chat/completions",
      "\nThe above exception was the direct cause of the following exception:\n",
      "\u001b[0;31mHfHubHTTPError\u001b[0m                            Traceback (most recent call last)",
      "Cell \u001b[0;32mIn[15], line 4\u001b[0m\n\u001b[1;32m      2\u001b[0m answers\u001b[38;5;241m=\u001b[39m[]\n\u001b[1;32m      3\u001b[0m \u001b[38;5;28;01mfor\u001b[39;00m i \u001b[38;5;129;01min\u001b[39;00m resolutions[:\u001b[38;5;241m5\u001b[39m]:\n\u001b[0;32m----> 4\u001b[0m     stream \u001b[38;5;241m=\u001b[39m client\u001b[38;5;241m.\u001b[39mchat\u001b[38;5;241m.\u001b[39mcompletions\u001b[38;5;241m.\u001b[39mcreate(\n\u001b[1;32m      5\u001b[0m         model\u001b[38;5;241m=\u001b[39mmodels[\u001b[38;5;241m3\u001b[39m], \u001b[38;5;66;03m#you can choose from the models list\u001b[39;00m\n\u001b[1;32m      6\u001b[0m     \t\u001b[38;5;66;03m#Building the prompt\u001b[39;00m\n\u001b[1;32m      7\u001b[0m         messages\u001b[38;5;241m=\u001b[39m[\n\u001b[1;32m      8\u001b[0m             {\u001b[38;5;124m\"\u001b[39m\u001b[38;5;124mrole\u001b[39m\u001b[38;5;124m\"\u001b[39m: \u001b[38;5;124m\"\u001b[39m\u001b[38;5;124muser\u001b[39m\u001b[38;5;124m\"\u001b[39m,\n\u001b[1;32m      9\u001b[0m     \t\t\u001b[38;5;124m\"\u001b[39m\u001b[38;5;124mcontent\u001b[39m\u001b[38;5;124m\"\u001b[39m: prompts[\u001b[38;5;124m\"\u001b[39m\u001b[38;5;124mPrompt 1\u001b[39m\u001b[38;5;124m\"\u001b[39m]\u001b[38;5;241m+\u001b[39m\u001b[38;5;124m\"\u001b[39m\u001b[38;5;124m here is the political resolution \u001b[39m\u001b[38;5;124m\"\u001b[39m\u001b[38;5;241m+\u001b[39mi \u001b[38;5;66;03m#you can choose from the prompt templates list\u001b[39;00m\n\u001b[1;32m     10\u001b[0m             }\n\u001b[1;32m     11\u001b[0m         ],    \t\n\u001b[1;32m     12\u001b[0m     \tmax_tokens\u001b[38;5;241m=\u001b[39m\u001b[38;5;241m500\u001b[39m,\n\u001b[1;32m     13\u001b[0m     \tstream\u001b[38;5;241m=\u001b[39m\u001b[38;5;28;01mTrue\u001b[39;00m\n\u001b[1;32m     14\u001b[0m     )\n\u001b[1;32m     15\u001b[0m     chat\u001b[38;5;241m=\u001b[39m[]\n\u001b[1;32m     16\u001b[0m     \u001b[38;5;28;01mfor\u001b[39;00m chunk \u001b[38;5;129;01min\u001b[39;00m stream:\n",
      "File \u001b[0;32m~/miniconda3/envs/test_env/lib/python3.11/site-packages/huggingface_hub/inference/_client.py:882\u001b[0m, in \u001b[0;36mInferenceClient.chat_completion\u001b[0;34m(self, messages, model, stream, frequency_penalty, logit_bias, logprobs, max_tokens, n, presence_penalty, response_format, seed, stop, stream_options, temperature, tool_choice, tool_prompt, tools, top_logprobs, top_p)\u001b[0m\n\u001b[1;32m    860\u001b[0m payload \u001b[38;5;241m=\u001b[39m \u001b[38;5;28mdict\u001b[39m(\n\u001b[1;32m    861\u001b[0m     model\u001b[38;5;241m=\u001b[39mmodel_id,\n\u001b[1;32m    862\u001b[0m     messages\u001b[38;5;241m=\u001b[39mmessages,\n\u001b[0;32m   (...)\u001b[0m\n\u001b[1;32m    879\u001b[0m     stream_options\u001b[38;5;241m=\u001b[39mstream_options,\n\u001b[1;32m    880\u001b[0m )\n\u001b[1;32m    881\u001b[0m payload \u001b[38;5;241m=\u001b[39m {key: value \u001b[38;5;28;01mfor\u001b[39;00m key, value \u001b[38;5;129;01min\u001b[39;00m payload\u001b[38;5;241m.\u001b[39mitems() \u001b[38;5;28;01mif\u001b[39;00m value \u001b[38;5;129;01mis\u001b[39;00m \u001b[38;5;129;01mnot\u001b[39;00m \u001b[38;5;28;01mNone\u001b[39;00m}\n\u001b[0;32m--> 882\u001b[0m data \u001b[38;5;241m=\u001b[39m \u001b[38;5;28mself\u001b[39m\u001b[38;5;241m.\u001b[39mpost(model\u001b[38;5;241m=\u001b[39mmodel_url, json\u001b[38;5;241m=\u001b[39mpayload, stream\u001b[38;5;241m=\u001b[39mstream)\n\u001b[1;32m    884\u001b[0m \u001b[38;5;28;01mif\u001b[39;00m stream:\n\u001b[1;32m    885\u001b[0m     \u001b[38;5;28;01mreturn\u001b[39;00m _stream_chat_completion_response(data)  \u001b[38;5;66;03m# type: ignore[arg-type]\u001b[39;00m\n",
      "File \u001b[0;32m~/miniconda3/envs/test_env/lib/python3.11/site-packages/huggingface_hub/inference/_client.py:296\u001b[0m, in \u001b[0;36mInferenceClient.post\u001b[0;34m(self, json, data, model, task, stream)\u001b[0m\n\u001b[1;32m    293\u001b[0m         \u001b[38;5;28;01mraise\u001b[39;00m InferenceTimeoutError(\u001b[38;5;124mf\u001b[39m\u001b[38;5;124m\"\u001b[39m\u001b[38;5;124mInference call timed out: \u001b[39m\u001b[38;5;132;01m{\u001b[39;00murl\u001b[38;5;132;01m}\u001b[39;00m\u001b[38;5;124m\"\u001b[39m) \u001b[38;5;28;01mfrom\u001b[39;00m \u001b[38;5;21;01merror\u001b[39;00m  \u001b[38;5;66;03m# type: ignore\u001b[39;00m\n\u001b[1;32m    295\u001b[0m \u001b[38;5;28;01mtry\u001b[39;00m:\n\u001b[0;32m--> 296\u001b[0m     hf_raise_for_status(response)\n\u001b[1;32m    297\u001b[0m     \u001b[38;5;28;01mreturn\u001b[39;00m response\u001b[38;5;241m.\u001b[39miter_lines() \u001b[38;5;28;01mif\u001b[39;00m stream \u001b[38;5;28;01melse\u001b[39;00m response\u001b[38;5;241m.\u001b[39mcontent\n\u001b[1;32m    298\u001b[0m \u001b[38;5;28;01mexcept\u001b[39;00m HTTPError \u001b[38;5;28;01mas\u001b[39;00m error:\n",
      "File \u001b[0;32m~/miniconda3/envs/test_env/lib/python3.11/site-packages/huggingface_hub/utils/_http.py:477\u001b[0m, in \u001b[0;36mhf_raise_for_status\u001b[0;34m(response, endpoint_name)\u001b[0m\n\u001b[1;32m    473\u001b[0m     \u001b[38;5;28;01mraise\u001b[39;00m _format(HfHubHTTPError, message, response) \u001b[38;5;28;01mfrom\u001b[39;00m \u001b[38;5;21;01me\u001b[39;00m\n\u001b[1;32m    475\u001b[0m \u001b[38;5;66;03m# Convert `HTTPError` into a `HfHubHTTPError` to display request information\u001b[39;00m\n\u001b[1;32m    476\u001b[0m \u001b[38;5;66;03m# as well (request id and/or server error message)\u001b[39;00m\n\u001b[0;32m--> 477\u001b[0m \u001b[38;5;28;01mraise\u001b[39;00m _format(HfHubHTTPError, \u001b[38;5;28mstr\u001b[39m(e), response) \u001b[38;5;28;01mfrom\u001b[39;00m \u001b[38;5;21;01me\u001b[39;00m\n",
      "\u001b[0;31mHfHubHTTPError\u001b[0m: 422 Client Error: Unprocessable Entity for url: https://api-inference.huggingface.co/models/google/gemma-7b/v1/chat/completions (Request ID: 9CVScS7xI3GjVOQLAoX4f)\n\nTemplate error: template not found"
     ]
    }
   ],
   "source": [
    "# Get answers from the LLM through the API\n",
    "answers=[]\n",
    "for i in resolutions[:5]:\n",
    "    stream = client.chat.completions.create(\n",
    "        model=models[3], #you can choose from the models list\n",
    "    \t#Building the prompt\n",
    "        messages=[\n",
    "            {\"role\": \"user\",\n",
    "    \t\t\"content\": prompts[\"Prompt 1\"]+\" here is the political resolution \"+i #you can choose from the prompt templates list\n",
    "            }\n",
    "        ],    \t\n",
    "    \tmax_tokens=500,\n",
    "    \tstream=True\n",
    "    )\n",
    "    chat=[]\n",
    "    for chunk in stream:\n",
    "        chat.append(chunk.choices[0].delta.content)\n",
    "        temp=i,' '.join(chat)\n",
    "    answers.append(temp)"
   ]
  },
  {
   "cell_type": "code",
   "execution_count": 17,
   "id": "b5843adb",
   "metadata": {},
   "outputs": [],
   "source": [
    "for a in answers:\n",
    "    print(a)"
   ]
  },
  {
   "cell_type": "code",
   "execution_count": 15,
   "id": "4afd15c1-1f2d-4468-be06-8e01ce734a12",
   "metadata": {},
   "outputs": [
    {
     "ename": "ValueError",
     "evalue": "Length mismatch: Expected axis has 0 elements, new values have 2 elements",
     "output_type": "error",
     "traceback": [
      "\u001b[0;31m---------------------------------------------------------------------------\u001b[0m",
      "\u001b[0;31mValueError\u001b[0m                                Traceback (most recent call last)",
      "Cell \u001b[0;32mIn[15], line 3\u001b[0m\n\u001b[1;32m      1\u001b[0m \u001b[38;5;66;03m#Create a DataFrame with the resolutions and the answers of the LLM\u001b[39;00m\n\u001b[1;32m      2\u001b[0m output\u001b[38;5;241m=\u001b[39mpd\u001b[38;5;241m.\u001b[39mDataFrame(answers)\n\u001b[0;32m----> 3\u001b[0m output\u001b[38;5;241m.\u001b[39mcolumns \u001b[38;5;241m=\u001b[39m [\u001b[38;5;124m\"\u001b[39m\u001b[38;5;124mresolution\u001b[39m\u001b[38;5;124m\"\u001b[39m, \u001b[38;5;124m\"\u001b[39m\u001b[38;5;124manswersLLM\u001b[39m\u001b[38;5;124m\"\u001b[39m]\n",
      "File \u001b[0;32m~/miniconda3/envs/test_env/lib/python3.11/site-packages/pandas/core/generic.py:6218\u001b[0m, in \u001b[0;36mNDFrame.__setattr__\u001b[0;34m(self, name, value)\u001b[0m\n\u001b[1;32m   6216\u001b[0m \u001b[38;5;28;01mtry\u001b[39;00m:\n\u001b[1;32m   6217\u001b[0m     \u001b[38;5;28mobject\u001b[39m\u001b[38;5;241m.\u001b[39m\u001b[38;5;21m__getattribute__\u001b[39m(\u001b[38;5;28mself\u001b[39m, name)\n\u001b[0;32m-> 6218\u001b[0m     \u001b[38;5;28;01mreturn\u001b[39;00m \u001b[38;5;28mobject\u001b[39m\u001b[38;5;241m.\u001b[39m\u001b[38;5;21m__setattr__\u001b[39m(\u001b[38;5;28mself\u001b[39m, name, value)\n\u001b[1;32m   6219\u001b[0m \u001b[38;5;28;01mexcept\u001b[39;00m \u001b[38;5;167;01mAttributeError\u001b[39;00m:\n\u001b[1;32m   6220\u001b[0m     \u001b[38;5;28;01mpass\u001b[39;00m\n",
      "File \u001b[0;32mproperties.pyx:69\u001b[0m, in \u001b[0;36mpandas._libs.properties.AxisProperty.__set__\u001b[0;34m()\u001b[0m\n",
      "File \u001b[0;32m~/miniconda3/envs/test_env/lib/python3.11/site-packages/pandas/core/generic.py:767\u001b[0m, in \u001b[0;36mNDFrame._set_axis\u001b[0;34m(self, axis, labels)\u001b[0m\n\u001b[1;32m    762\u001b[0m \u001b[38;5;250m\u001b[39m\u001b[38;5;124;03m\"\"\"\u001b[39;00m\n\u001b[1;32m    763\u001b[0m \u001b[38;5;124;03mThis is called from the cython code when we set the `index` attribute\u001b[39;00m\n\u001b[1;32m    764\u001b[0m \u001b[38;5;124;03mdirectly, e.g. `series.index = [1, 2, 3]`.\u001b[39;00m\n\u001b[1;32m    765\u001b[0m \u001b[38;5;124;03m\"\"\"\u001b[39;00m\n\u001b[1;32m    766\u001b[0m labels \u001b[38;5;241m=\u001b[39m ensure_index(labels)\n\u001b[0;32m--> 767\u001b[0m \u001b[38;5;28mself\u001b[39m\u001b[38;5;241m.\u001b[39m_mgr\u001b[38;5;241m.\u001b[39mset_axis(axis, labels)\n\u001b[1;32m    768\u001b[0m \u001b[38;5;28mself\u001b[39m\u001b[38;5;241m.\u001b[39m_clear_item_cache()\n",
      "File \u001b[0;32m~/miniconda3/envs/test_env/lib/python3.11/site-packages/pandas/core/internals/managers.py:227\u001b[0m, in \u001b[0;36mBaseBlockManager.set_axis\u001b[0;34m(self, axis, new_labels)\u001b[0m\n\u001b[1;32m    225\u001b[0m \u001b[38;5;28;01mdef\u001b[39;00m \u001b[38;5;21mset_axis\u001b[39m(\u001b[38;5;28mself\u001b[39m, axis: AxisInt, new_labels: Index) \u001b[38;5;241m-\u001b[39m\u001b[38;5;241m>\u001b[39m \u001b[38;5;28;01mNone\u001b[39;00m:\n\u001b[1;32m    226\u001b[0m     \u001b[38;5;66;03m# Caller is responsible for ensuring we have an Index object.\u001b[39;00m\n\u001b[0;32m--> 227\u001b[0m     \u001b[38;5;28mself\u001b[39m\u001b[38;5;241m.\u001b[39m_validate_set_axis(axis, new_labels)\n\u001b[1;32m    228\u001b[0m     \u001b[38;5;28mself\u001b[39m\u001b[38;5;241m.\u001b[39maxes[axis] \u001b[38;5;241m=\u001b[39m new_labels\n",
      "File \u001b[0;32m~/miniconda3/envs/test_env/lib/python3.11/site-packages/pandas/core/internals/base.py:85\u001b[0m, in \u001b[0;36mDataManager._validate_set_axis\u001b[0;34m(self, axis, new_labels)\u001b[0m\n\u001b[1;32m     82\u001b[0m     \u001b[38;5;28;01mpass\u001b[39;00m\n\u001b[1;32m     84\u001b[0m \u001b[38;5;28;01melif\u001b[39;00m new_len \u001b[38;5;241m!=\u001b[39m old_len:\n\u001b[0;32m---> 85\u001b[0m     \u001b[38;5;28;01mraise\u001b[39;00m \u001b[38;5;167;01mValueError\u001b[39;00m(\n\u001b[1;32m     86\u001b[0m         \u001b[38;5;124mf\u001b[39m\u001b[38;5;124m\"\u001b[39m\u001b[38;5;124mLength mismatch: Expected axis has \u001b[39m\u001b[38;5;132;01m{\u001b[39;00mold_len\u001b[38;5;132;01m}\u001b[39;00m\u001b[38;5;124m elements, new \u001b[39m\u001b[38;5;124m\"\u001b[39m\n\u001b[1;32m     87\u001b[0m         \u001b[38;5;124mf\u001b[39m\u001b[38;5;124m\"\u001b[39m\u001b[38;5;124mvalues have \u001b[39m\u001b[38;5;132;01m{\u001b[39;00mnew_len\u001b[38;5;132;01m}\u001b[39;00m\u001b[38;5;124m elements\u001b[39m\u001b[38;5;124m\"\u001b[39m\n\u001b[1;32m     88\u001b[0m     )\n",
      "\u001b[0;31mValueError\u001b[0m: Length mismatch: Expected axis has 0 elements, new values have 2 elements"
     ]
    }
   ],
   "source": [
    "#Create a DataFrame with the resolutions and the answers of the LLM\n",
    "output=pd.DataFrame(answers)\n",
    "output.columns = [\"resolution\", \"answersLLM\"]"
   ]
  },
  {
   "cell_type": "code",
   "execution_count": 11,
   "id": "23c922fc-041b-49c7-a483-a1c6084abee1",
   "metadata": {},
   "outputs": [
    {
     "data": {
      "text/html": [
       "<div>\n",
       "<style scoped>\n",
       "    .dataframe tbody tr th:only-of-type {\n",
       "        vertical-align: middle;\n",
       "    }\n",
       "\n",
       "    .dataframe tbody tr th {\n",
       "        vertical-align: top;\n",
       "    }\n",
       "\n",
       "    .dataframe thead th {\n",
       "        text-align: right;\n",
       "    }\n",
       "</style>\n",
       "<table border=\"1\" class=\"dataframe\">\n",
       "  <thead>\n",
       "    <tr style=\"text-align: right;\">\n",
       "      <th></th>\n",
       "      <th>resolution</th>\n",
       "      <th>answersLLM</th>\n",
       "    </tr>\n",
       "  </thead>\n",
       "  <tbody>\n",
       "    <tr>\n",
       "      <th>0</th>\n",
       "      <td>The European Parliament Condemns, in the stron...</td>\n",
       "      <td>1 .  Ag ree .  The  resolution ’ s  primary ...</td>\n",
       "    </tr>\n",
       "    <tr>\n",
       "      <th>1</th>\n",
       "      <td>The European Parliament Expresses its undivide...</td>\n",
       "      <td>2 .  Strong ly  Ag ree .</td>\n",
       "    </tr>\n",
       "    <tr>\n",
       "      <th>2</th>\n",
       "      <td>The European Parliament Calls for the EU and i...</td>\n",
       "      <td>1 .  Ag ree .  The  resolution ' s  primary ...</td>\n",
       "    </tr>\n",
       "    <tr>\n",
       "      <th>3</th>\n",
       "      <td>The European Parliament Calls on the Commissio...</td>\n",
       "      <td>2 .  Strong ly  Ag ree .  The  resolution ' ...</td>\n",
       "    </tr>\n",
       "    <tr>\n",
       "      <th>4</th>\n",
       "      <td>The European Parliament Calls on all Member St...</td>\n",
       "      <td>2 .  Strong ly  Ag ree . \\n \\n The  resoluti...</td>\n",
       "    </tr>\n",
       "  </tbody>\n",
       "</table>\n",
       "</div>"
      ],
      "text/plain": [
       "                                          resolution  \\\n",
       "0  The European Parliament Condemns, in the stron...   \n",
       "1  The European Parliament Expresses its undivide...   \n",
       "2  The European Parliament Calls for the EU and i...   \n",
       "3  The European Parliament Calls on the Commissio...   \n",
       "4  The European Parliament Calls on all Member St...   \n",
       "\n",
       "                                          answersLLM  \n",
       "0    1 .  Ag ree .  The  resolution ’ s  primary ...  \n",
       "1                          2 .  Strong ly  Ag ree .   \n",
       "2    1 .  Ag ree .  The  resolution ' s  primary ...  \n",
       "3    2 .  Strong ly  Ag ree .  The  resolution ' ...  \n",
       "4    2 .  Strong ly  Ag ree . \\n \\n The  resoluti...  "
      ]
     },
     "execution_count": 11,
     "metadata": {},
     "output_type": "execute_result"
    }
   ],
   "source": [
    "output"
   ]
  },
  {
   "cell_type": "code",
   "execution_count": null,
   "id": "a4c1de00-cad7-47c8-8a12-e1577c335e62",
   "metadata": {},
   "outputs": [],
   "source": []
  }
 ],
 "metadata": {
  "kernelspec": {
   "display_name": "Python 3 (ipykernel)",
   "language": "python",
   "name": "python3"
  },
  "language_info": {
   "codemirror_mode": {
    "name": "ipython",
    "version": 3
   },
   "file_extension": ".py",
   "mimetype": "text/x-python",
   "name": "python",
   "nbconvert_exporter": "python",
   "pygments_lexer": "ipython3",
   "version": "3.11.5"
  }
 },
 "nbformat": 4,
 "nbformat_minor": 5
}
