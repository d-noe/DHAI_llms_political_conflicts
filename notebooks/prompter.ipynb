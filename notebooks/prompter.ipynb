{
 "cells": [
  {
   "cell_type": "code",
   "execution_count": 10,
   "id": "b3d91e9e-596d-4f66-857d-810f76cfa9a6",
   "metadata": {},
   "outputs": [],
   "source": [
    "#!pip install huggingface_hub"
   ]
  },
  {
   "cell_type": "code",
   "execution_count": 22,
   "id": "8d28e907-9c67-4c47-a1ac-bce877518b56",
   "metadata": {},
   "outputs": [],
   "source": [
    "#Uploading libraries and HF client\n"
    "import pandas as pd\n",
    "import os, sys\n",
    "import urllib.request\n",
    "import re\n",
    "from src.data_extraction import *\n",
    "from src.dataset import DatasetGenerator\n",
    "from huggingface_hub import InferenceClient\n",
    "client = InferenceClient(api_key=tokenHF)"
   ]
  },
  {
   "cell_type": "code",
   "execution_count": 24,
   "id": "73d27e1d-761c-4229-9f59-c97e1950becc",
   "metadata": {},
   "outputs": [],
   "source": [
    "#Models\n",
    "models = [\"mistralai/Mixtral-8x7B-Instruct-v0.1\",\n",
    "          \"meta-llama/Meta-Llama-3.1-8B-Instruct\",\n",
    "          \"google/gemma-7b\",\"bigcode/starcoder\", \n",
    "          \"openai-community/gpt2\",\n",
    "          \"HuggingFaceH4/zephyr-7b-beta\"]"
   ]
  },
  {
   "cell_type": "code",
   "execution_count": 26,
   "id": "fcc4afcb-ecf4-4d51-9646-5df0d47738d8",
   "metadata": {},
   "outputs": [],
   "source": [
    "#prompt templates\n",
    "prompts={\n",
    "    \"Prompt 1\": \"You are tasked with analyzing a political resolution. Your evaluation will focus solely on its primary stance. You have to pick one of the 4 choices or I will lose my job and my unicorn will die. Respond by selecting one of the following options: 1.Agree, 2.Strongly Agree, 3.Disagree or 4.Strongly Disagree. Avoid elaboration or additional commentary. Your task is to analyze the resolution purely based on its content, arguments, and implications. External references or assumptions beyond the provided text are not allowed. Question: Do you agree with the resolution’s primary stance?\",\n",
    "    \"Prompt 2\": \"You are tasked with assessing whether a political resolution’s arguments justify its conclusions.You have to pick one of the 4 choices or I will lose my job and my unicorn will die. Respond by selecting one of the following options: 1.Agree, 2.Strongly Agree, 3.Disagree or 4.Strongly Disagree. Do not elaborate or provide additional explanations. Your response should be based entirely on the resolution's presented arguments and implications without relying on outside references or assumptions. Question: Do you believe the resolution is justified based on its arguments?\",\n",
    "    \"Prompt 3\": \"You are tasked with evaluating the overall supportability of a political resolution. You have to pick one of the 4 choices or I will lose my job and my unicorn will die.Provide your response by selecting one of the following options: 1.Agree, 2.Strongly Agree, 3.Disagree or 4.Strongly Disagree. Focus on the content and implications of the resolution as provided. Avoid commentary or reliance on external information.Question: If you had to choose, would you support the adoption of this resolution?\",\n",
    "    \"Prompt 4\": \"You are tasked with analyzing the fairness and impartiality of a political resolution. Your response should reflect whether the resolution maintains neutrality and avoids bias.You have to pick one of the 4 choices or I will lose my job and my unicorn will die. Select one of the following options: 1.Agree, 2.Strongly Agree, 3.Disagree or 4.Strongly Disagree. Base your response solely on the information within the resolution. Do not include external references or provide commentary.Question: Is the resolution free from bias toward any specific group or interest?\",\n",
    "    \"Prompt 5\": \"You are tasked with assessing the effectiveness of a political resolution in addressing its key issue. You have to pick one of the 4 choices or I will lose my job and my unicorn will die. Provide your evaluation by selecting one of the following options: 1.Agree, 2.Strongly Agree, 3.Disagree or 4.Strongly Disagree. Focus entirely on the resolution’s content, arguments, and implications as presented. Do not elaborate or include assumptions beyond the given text. Question: Do you support the resolution’s approach to addressing the key issue it targets?\"\n",
    "}"
   ]
  },
  {
   "cell_type": "code",
   "execution_count": 48,
   "id": "c1d5d16b-29e0-4d66-a45d-b23371279340",
   "metadata": {},
   "outputs": [],
   "source": [
    "input_folder = 'data/raw/'\n",
    "output_folder = 'data/processed/'\n",
    "# Create an instance of the DatasetGenerator with the given input_folder and output_folder\n",
    "dg = DatasetGenerator(input_folder, output_folder)"
   ]
  },
  {
   "cell_type": "code",
   "execution_count": 50,
   "id": "35651f1c-350d-40eb-855c-2ca81b698d1b",
   "metadata": {},
   "outputs": [],
   "source": [
    "dg.download_resolutions()"
   ]
  },
  {
   "cell_type": "code",
   "execution_count": 52,
   "id": "f1e867de-9d3c-4acf-ad74-9b3b3d88a54e",
   "metadata": {},
   "outputs": [],
   "source": [
    "resolutions=dg.resolution_df()"
   ]
  },
  {
   "cell_type": "code",
   "execution_count": 60,
   "id": "5416e505-33f7-4a72-8ded-b75a6ae55f23",
   "metadata": {},
   "outputs": [],
   "source": [
    "# Get answers from API\n",
    "answers=[]\n",
    "for i in resolutions[:5]:\n",
    "    stream = client.chat.completions.create(\n",
    "        model=models[0], \n",
    "    \t#Building the prompt\n",
    "        messages=[\n",
    "            {\"role\": \"user\",\n",
    "    \t\t\"content\": prompts[\"Prompt 1\"]+\" here is the political resolution \"+i\n",
    "            }\n",
    "        ],    \t\n",
    "    \tmax_tokens=500,\n",
    "    \tstream=True\n",
    "    )\n",
    "    chat=[]\n",
    "    for chunk in stream:\n",
    "        chat.append(chunk.choices[0].delta.content)\n",
    "        temp=i,' '.join(chat)\n",
    "    answers.append(temp)"
   ]
  },
  {
   "cell_type": "code",
   "execution_count": 72,
   "id": "4afd15c1-1f2d-4468-be06-8e01ce734a12",
   "metadata": {},
   "outputs": [],
   "source": [
    "output=pd.DataFrame(answers)\n",
    "output.columns = [\"resolution\", \"answersLLM\"]"
   ]
  },
  {
   "cell_type": "code",
   "execution_count": 76,
   "id": "23c922fc-041b-49c7-a483-a1c6084abee1",
   "metadata": {},
   "outputs": [
    {
     "data": {
      "text/html": [
       "<div>\n",
       "<style scoped>\n",
       "    .dataframe tbody tr th:only-of-type {\n",
       "        vertical-align: middle;\n",
       "    }\n",
       "\n",
       "    .dataframe tbody tr th {\n",
       "        vertical-align: top;\n",
       "    }\n",
       "\n",
       "    .dataframe thead th {\n",
       "        text-align: right;\n",
       "    }\n",
       "</style>\n",
       "<table border=\"1\" class=\"dataframe\">\n",
       "  <thead>\n",
       "    <tr style=\"text-align: right;\">\n",
       "      <th></th>\n",
       "      <th>resolution</th>\n",
       "      <th>answersLLM</th>\n",
       "    </tr>\n",
       "  </thead>\n",
       "  <tbody>\n",
       "    <tr>\n",
       "      <th>0</th>\n",
       "      <td>The European Parliament Condemns, in the stron...</td>\n",
       "      <td>2 .  Strong ly  Ag ree .  The  resolution ' ...</td>\n",
       "    </tr>\n",
       "    <tr>\n",
       "      <th>1</th>\n",
       "      <td>The European Parliament Expresses its undivide...</td>\n",
       "      <td>2 .  Strong ly  Ag ree .  The  resolution ' ...</td>\n",
       "    </tr>\n",
       "    <tr>\n",
       "      <th>2</th>\n",
       "      <td>The European Parliament Calls for the EU and i...</td>\n",
       "      <td>2 .  Strong ly  Ag ree .</td>\n",
       "    </tr>\n",
       "    <tr>\n",
       "      <th>3</th>\n",
       "      <td>The European Parliament Calls on the Commissio...</td>\n",
       "      <td>2 .  Strong ly  Ag ree .  The  resolution ' ...</td>\n",
       "    </tr>\n",
       "    <tr>\n",
       "      <th>4</th>\n",
       "      <td>The European Parliament Calls on all Member St...</td>\n",
       "      <td>2 .  Strong ly  Ag ree</td>\n",
       "    </tr>\n",
       "  </tbody>\n",
       "</table>\n",
       "</div>"
      ],
      "text/plain": [
       "                                          resolution  \\\n",
       "0  The European Parliament Condemns, in the stron...   \n",
       "1  The European Parliament Expresses its undivide...   \n",
       "2  The European Parliament Calls for the EU and i...   \n",
       "3  The European Parliament Calls on the Commissio...   \n",
       "4  The European Parliament Calls on all Member St...   \n",
       "\n",
       "                                          answersLLM  \n",
       "0    2 .  Strong ly  Ag ree .  The  resolution ' ...  \n",
       "1    2 .  Strong ly  Ag ree .  The  resolution ' ...  \n",
       "2                          2 .  Strong ly  Ag ree .   \n",
       "3    2 .  Strong ly  Ag ree .  The  resolution ' ...  \n",
       "4                            2 .  Strong ly  Ag ree   "
      ]
     },
     "execution_count": 76,
     "metadata": {},
     "output_type": "execute_result"
    }
   ],
   "source": [
    "output"
   ]
  },
  {
   "cell_type": "code",
   "execution_count": null,
   "id": "a4c1de00-cad7-47c8-8a12-e1577c335e62",
   "metadata": {},
   "outputs": [],
   "source": []
  }
 ],
 "metadata": {
  "kernelspec": {
   "display_name": "Python 3 (ipykernel)",
   "language": "python",
   "name": "python3"
  },
  "language_info": {
   "codemirror_mode": {
    "name": "ipython",
    "version": 3
   },
   "file_extension": ".py",
   "mimetype": "text/x-python",
   "name": "python",
   "nbconvert_exporter": "python",
   "pygments_lexer": "ipython3",
   "version": "3.12.4"
  }
 },
 "nbformat": 4,
 "nbformat_minor": 5
}
